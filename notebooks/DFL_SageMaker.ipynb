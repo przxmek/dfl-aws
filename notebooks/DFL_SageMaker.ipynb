{
 "cells": [
  {
   "cell_type": "markdown",
   "metadata": {
    "colab_type": "text",
    "id": "0cKdTCuv4tXh"
   },
   "source": [
    "# Welcome to DFL-AWS-SageMaker!\n",
    "\n",
    "This is an adapted version of the DFL for AWS Sage Maker.\n",
    "\n",
    "\n",
    "# Overview\n",
    "*   Extractor works in full functionality.\n",
    "*   Training can work without preview.\n",
    "*   Merger works in full functionality.\n",
    "*   You can import/export workspace with your Google Drive.\n",
    "*   Import/export and another manipulations with workspace you can do in \"Manage workspace\" block\n",
    "*   Google Colab machine active for 12 hours. DFL-Colab makes a backup of your workspace in training mode.\n",
    "*   Google does not like long-term heavy calculations. Therefore, for training more than two sessions in a row, use two Google accounts. It is recommended to split your training over 2 accounts, but you can use one Google Drive account to store your workspace."
   ]
  },
  {
   "cell_type": "markdown",
   "metadata": {
    "colab_type": "text",
    "id": "0cKdTCuv4tXh"
   },
   "source": []
  },
  {
   "cell_type": "markdown",
   "metadata": {
    "colab_type": "text",
    "id": "BDg_jiQ9adQe"
   },
   "source": [
    "## Check GPU\n",
    "\n",
    "*   SageMaker can provide you with one of Tesla graphics cards: K80, T4, P4 or P100\n",
    "*   Here you can check the model of GPU before using DeepFaceLab\n",
    "\n"
   ]
  },
  {
   "cell_type": "code",
   "execution_count": 2,
   "metadata": {
    "colab": {},
    "colab_type": "code",
    "id": "WJe71S6gbzt3"
   },
   "outputs": [
    {
     "name": "stdout",
     "output_type": "stream",
     "text": [
      "NVIDIA-SMI has failed because it couldn't communicate with the NVIDIA driver. Make sure that the latest NVIDIA driver is installed and running.\n",
      "\n"
     ]
    }
   ],
   "source": [
    "!nvidia-smi"
   ]
  },
  {
   "cell_type": "markdown",
   "metadata": {
    "colab_type": "text",
    "id": "JuVn21kt40Gw"
   },
   "source": [
    "## Install or update DeepFaceLab\n",
    "\n",
    "* Install or update DeepFAceLab directly from Github\n",
    "* Requirements install is automatically\n",
    "* Automatically sets timer to prevent random disconnects"
   ]
  },
  {
   "cell_type": "code",
   "execution_count": 19,
   "metadata": {
    "cellView": "form",
    "colab": {},
    "colab_type": "code",
    "id": "JG-f2WqT4fLK"
   },
   "outputs": [
    {
     "name": "stdout",
     "output_type": "stream",
     "text": [
      "CUDA version 10.1\n",
      "Requirement already satisfied: tqdm in /home/ec2-user/anaconda3/envs/pytorch_p36/lib/python3.6/site-packages (from -r DeepFaceLab/requirements-colab.txt (line 1)) (4.42.1)\n",
      "Requirement already satisfied: numpy==1.17.0 in /home/ec2-user/anaconda3/envs/pytorch_p36/lib/python3.6/site-packages (from -r DeepFaceLab/requirements-colab.txt (line 2)) (1.17.0)\n",
      "Requirement already satisfied: h5py==2.9.0 in /home/ec2-user/anaconda3/envs/pytorch_p36/lib/python3.6/site-packages (from -r DeepFaceLab/requirements-colab.txt (line 3)) (2.9.0)\n",
      "Requirement already satisfied: opencv-python==4.1.0.25 in /home/ec2-user/anaconda3/envs/pytorch_p36/lib/python3.6/site-packages (from -r DeepFaceLab/requirements-colab.txt (line 4)) (4.1.0.25)\n",
      "Requirement already satisfied: ffmpeg-python==0.1.17 in /home/ec2-user/anaconda3/envs/pytorch_p36/lib/python3.6/site-packages (from -r DeepFaceLab/requirements-colab.txt (line 5)) (0.1.17)\n",
      "Collecting scikit-image==0.14.2 (from -r DeepFaceLab/requirements-colab.txt (line 6))\n",
      "  Using cached https://files.pythonhosted.org/packages/24/06/d560630eb9e36d90d69fe57d9ff762d8f501664ce478b8a0ae132b3c3008/scikit_image-0.14.2-cp36-cp36m-manylinux1_x86_64.whl\n",
      "Requirement already satisfied: scipy==1.4.1 in /home/ec2-user/anaconda3/envs/pytorch_p36/lib/python3.6/site-packages (from -r DeepFaceLab/requirements-colab.txt (line 7)) (1.4.1)\n",
      "Requirement already satisfied: colorama in /home/ec2-user/anaconda3/envs/pytorch_p36/lib/python3.6/site-packages (from -r DeepFaceLab/requirements-colab.txt (line 8)) (0.3.9)\n",
      "Requirement already satisfied: tensorflow-gpu==1.13.2 in /home/ec2-user/anaconda3/envs/pytorch_p36/lib/python3.6/site-packages (from -r DeepFaceLab/requirements-colab.txt (line 9)) (1.13.2)\n",
      "Requirement already satisfied: six in /home/ec2-user/anaconda3/envs/pytorch_p36/lib/python3.6/site-packages (from h5py==2.9.0->-r DeepFaceLab/requirements-colab.txt (line 3)) (1.11.0)\n",
      "Requirement already satisfied: future in /home/ec2-user/anaconda3/envs/pytorch_p36/lib/python3.6/site-packages (from ffmpeg-python==0.1.17->-r DeepFaceLab/requirements-colab.txt (line 5)) (0.18.2)\n",
      "Requirement already satisfied: matplotlib>=2.0.0 in /home/ec2-user/anaconda3/envs/pytorch_p36/lib/python3.6/site-packages (from scikit-image==0.14.2->-r DeepFaceLab/requirements-colab.txt (line 6)) (3.0.3)\n",
      "Requirement already satisfied: networkx>=1.8 in /home/ec2-user/anaconda3/envs/pytorch_p36/lib/python3.6/site-packages (from scikit-image==0.14.2->-r DeepFaceLab/requirements-colab.txt (line 6)) (2.1)\n",
      "Requirement already satisfied: dask[array]>=1.0.0 in /home/ec2-user/anaconda3/envs/pytorch_p36/lib/python3.6/site-packages (from scikit-image==0.14.2->-r DeepFaceLab/requirements-colab.txt (line 6)) (2.14.0)\n",
      "Requirement already satisfied: PyWavelets>=0.4.0 in /home/ec2-user/anaconda3/envs/pytorch_p36/lib/python3.6/site-packages (from scikit-image==0.14.2->-r DeepFaceLab/requirements-colab.txt (line 6)) (0.5.2)\n",
      "Requirement already satisfied: pillow>=4.3.0 in /home/ec2-user/anaconda3/envs/pytorch_p36/lib/python3.6/site-packages (from scikit-image==0.14.2->-r DeepFaceLab/requirements-colab.txt (line 6)) (5.4.1)\n",
      "Requirement already satisfied: cloudpickle>=0.2.1 in /home/ec2-user/anaconda3/envs/pytorch_p36/lib/python3.6/site-packages (from scikit-image==0.14.2->-r DeepFaceLab/requirements-colab.txt (line 6)) (0.5.3)\n",
      "Requirement already satisfied: absl-py>=0.1.6 in /home/ec2-user/anaconda3/envs/pytorch_p36/lib/python3.6/site-packages (from tensorflow-gpu==1.13.2->-r DeepFaceLab/requirements-colab.txt (line 9)) (0.9.0)\n",
      "Requirement already satisfied: wheel>=0.26 in /home/ec2-user/anaconda3/envs/pytorch_p36/lib/python3.6/site-packages (from tensorflow-gpu==1.13.2->-r DeepFaceLab/requirements-colab.txt (line 9)) (0.31.1)\n",
      "Requirement already satisfied: tensorboard<1.14.0,>=1.13.0 in /home/ec2-user/anaconda3/envs/pytorch_p36/lib/python3.6/site-packages (from tensorflow-gpu==1.13.2->-r DeepFaceLab/requirements-colab.txt (line 9)) (1.13.1)\n",
      "Requirement already satisfied: keras-applications>=1.0.6 in /home/ec2-user/anaconda3/envs/pytorch_p36/lib/python3.6/site-packages (from tensorflow-gpu==1.13.2->-r DeepFaceLab/requirements-colab.txt (line 9)) (1.0.8)\n",
      "Requirement already satisfied: tensorflow-estimator<1.14.0rc0,>=1.13.0 in /home/ec2-user/anaconda3/envs/pytorch_p36/lib/python3.6/site-packages (from tensorflow-gpu==1.13.2->-r DeepFaceLab/requirements-colab.txt (line 9)) (1.13.0)\n",
      "Requirement already satisfied: termcolor>=1.1.0 in /home/ec2-user/anaconda3/envs/pytorch_p36/lib/python3.6/site-packages (from tensorflow-gpu==1.13.2->-r DeepFaceLab/requirements-colab.txt (line 9)) (1.1.0)\n",
      "Requirement already satisfied: astor>=0.6.0 in /home/ec2-user/anaconda3/envs/pytorch_p36/lib/python3.6/site-packages (from tensorflow-gpu==1.13.2->-r DeepFaceLab/requirements-colab.txt (line 9)) (0.8.1)\n",
      "Requirement already satisfied: gast>=0.2.0 in /home/ec2-user/anaconda3/envs/pytorch_p36/lib/python3.6/site-packages (from tensorflow-gpu==1.13.2->-r DeepFaceLab/requirements-colab.txt (line 9)) (0.3.3)\n",
      "Requirement already satisfied: keras-preprocessing>=1.0.5 in /home/ec2-user/anaconda3/envs/pytorch_p36/lib/python3.6/site-packages (from tensorflow-gpu==1.13.2->-r DeepFaceLab/requirements-colab.txt (line 9)) (1.1.0)\n",
      "Requirement already satisfied: grpcio>=1.8.6 in /home/ec2-user/anaconda3/envs/pytorch_p36/lib/python3.6/site-packages (from tensorflow-gpu==1.13.2->-r DeepFaceLab/requirements-colab.txt (line 9)) (1.28.1)\n",
      "Requirement already satisfied: protobuf>=3.6.1 in /home/ec2-user/anaconda3/envs/pytorch_p36/lib/python3.6/site-packages (from tensorflow-gpu==1.13.2->-r DeepFaceLab/requirements-colab.txt (line 9)) (3.11.3)\n",
      "Requirement already satisfied: cycler>=0.10 in /home/ec2-user/anaconda3/envs/pytorch_p36/lib/python3.6/site-packages (from matplotlib>=2.0.0->scikit-image==0.14.2->-r DeepFaceLab/requirements-colab.txt (line 6)) (0.10.0)\n",
      "Requirement already satisfied: kiwisolver>=1.0.1 in /home/ec2-user/anaconda3/envs/pytorch_p36/lib/python3.6/site-packages (from matplotlib>=2.0.0->scikit-image==0.14.2->-r DeepFaceLab/requirements-colab.txt (line 6)) (1.0.1)\n",
      "Requirement already satisfied: pyparsing!=2.0.4,!=2.1.2,!=2.1.6,>=2.0.1 in /home/ec2-user/anaconda3/envs/pytorch_p36/lib/python3.6/site-packages (from matplotlib>=2.0.0->scikit-image==0.14.2->-r DeepFaceLab/requirements-colab.txt (line 6)) (2.2.0)\n",
      "Requirement already satisfied: python-dateutil>=2.1 in /home/ec2-user/anaconda3/envs/pytorch_p36/lib/python3.6/site-packages (from matplotlib>=2.0.0->scikit-image==0.14.2->-r DeepFaceLab/requirements-colab.txt (line 6)) (2.7.3)\n",
      "Requirement already satisfied: decorator>=4.1.0 in /home/ec2-user/anaconda3/envs/pytorch_p36/lib/python3.6/site-packages (from networkx>=1.8->scikit-image==0.14.2->-r DeepFaceLab/requirements-colab.txt (line 6)) (4.3.0)\n",
      "Requirement already satisfied: toolz>=0.8.2; extra == \"array\" in /home/ec2-user/anaconda3/envs/pytorch_p36/lib/python3.6/site-packages (from dask[array]>=1.0.0->scikit-image==0.14.2->-r DeepFaceLab/requirements-colab.txt (line 6)) (0.9.0)\n",
      "Requirement already satisfied: markdown>=2.6.8 in /home/ec2-user/anaconda3/envs/pytorch_p36/lib/python3.6/site-packages (from tensorboard<1.14.0,>=1.13.0->tensorflow-gpu==1.13.2->-r DeepFaceLab/requirements-colab.txt (line 9)) (3.2.1)\n",
      "Requirement already satisfied: werkzeug>=0.11.15 in /home/ec2-user/anaconda3/envs/pytorch_p36/lib/python3.6/site-packages (from tensorboard<1.14.0,>=1.13.0->tensorflow-gpu==1.13.2->-r DeepFaceLab/requirements-colab.txt (line 9)) (0.14.1)\n",
      "Requirement already satisfied: mock>=2.0.0 in /home/ec2-user/anaconda3/envs/pytorch_p36/lib/python3.6/site-packages (from tensorflow-estimator<1.14.0rc0,>=1.13.0->tensorflow-gpu==1.13.2->-r DeepFaceLab/requirements-colab.txt (line 9)) (4.0.1)\n",
      "Requirement already satisfied: setuptools in /home/ec2-user/anaconda3/envs/pytorch_p36/lib/python3.6/site-packages (from protobuf>=3.6.1->tensorflow-gpu==1.13.2->-r DeepFaceLab/requirements-colab.txt (line 9)) (39.1.0)\n",
      "Installing collected packages: scikit-image\n",
      "  Found existing installation: scikit-image 0.16.2\n",
      "    Uninstalling scikit-image-0.16.2:\n",
      "      Successfully uninstalled scikit-image-0.16.2\n",
      "Successfully installed scikit-image-0.14.2\n",
      "\u001b[33mYou are using pip version 10.0.1, however version 20.0.2 is available.\n",
      "You should consider upgrading via the 'pip install --upgrade pip' command.\u001b[0m\n",
      "Collecting scikit-image\n",
      "  Using cached https://files.pythonhosted.org/packages/c8/bb/771800366f41d66eef51e4b80515f8ef7edab234a3f244fdce3bafe89b39/scikit_image-0.16.2-cp36-cp36m-manylinux1_x86_64.whl\n",
      "Requirement not upgraded as not directly required: imageio>=2.3.0 in /home/ec2-user/anaconda3/envs/pytorch_p36/lib/python3.6/site-packages (from scikit-image) (2.3.0)\n",
      "Requirement not upgraded as not directly required: matplotlib!=3.0.0,>=2.0.0 in /home/ec2-user/anaconda3/envs/pytorch_p36/lib/python3.6/site-packages (from scikit-image) (3.0.3)\n",
      "Requirement not upgraded as not directly required: networkx>=2.0 in /home/ec2-user/anaconda3/envs/pytorch_p36/lib/python3.6/site-packages (from scikit-image) (2.1)\n",
      "Requirement not upgraded as not directly required: PyWavelets>=0.4.0 in /home/ec2-user/anaconda3/envs/pytorch_p36/lib/python3.6/site-packages (from scikit-image) (0.5.2)\n",
      "Requirement not upgraded as not directly required: pillow>=4.3.0 in /home/ec2-user/anaconda3/envs/pytorch_p36/lib/python3.6/site-packages (from scikit-image) (5.4.1)\n",
      "Requirement not upgraded as not directly required: scipy>=0.19.0 in /home/ec2-user/anaconda3/envs/pytorch_p36/lib/python3.6/site-packages (from scikit-image) (1.4.1)\n",
      "Requirement not upgraded as not directly required: numpy>=1.10.0 in /home/ec2-user/anaconda3/envs/pytorch_p36/lib/python3.6/site-packages (from matplotlib!=3.0.0,>=2.0.0->scikit-image) (1.17.0)\n",
      "Requirement not upgraded as not directly required: cycler>=0.10 in /home/ec2-user/anaconda3/envs/pytorch_p36/lib/python3.6/site-packages (from matplotlib!=3.0.0,>=2.0.0->scikit-image) (0.10.0)\n",
      "Requirement not upgraded as not directly required: kiwisolver>=1.0.1 in /home/ec2-user/anaconda3/envs/pytorch_p36/lib/python3.6/site-packages (from matplotlib!=3.0.0,>=2.0.0->scikit-image) (1.0.1)\n",
      "Requirement not upgraded as not directly required: pyparsing!=2.0.4,!=2.1.2,!=2.1.6,>=2.0.1 in /home/ec2-user/anaconda3/envs/pytorch_p36/lib/python3.6/site-packages (from matplotlib!=3.0.0,>=2.0.0->scikit-image) (2.2.0)\n",
      "Requirement not upgraded as not directly required: python-dateutil>=2.1 in /home/ec2-user/anaconda3/envs/pytorch_p36/lib/python3.6/site-packages (from matplotlib!=3.0.0,>=2.0.0->scikit-image) (2.7.3)\n",
      "Requirement not upgraded as not directly required: decorator>=4.1.0 in /home/ec2-user/anaconda3/envs/pytorch_p36/lib/python3.6/site-packages (from networkx>=2.0->scikit-image) (4.3.0)\n",
      "Requirement not upgraded as not directly required: six in /home/ec2-user/anaconda3/envs/pytorch_p36/lib/python3.6/site-packages (from cycler>=0.10->matplotlib!=3.0.0,>=2.0.0->scikit-image) (1.11.0)\n",
      "Requirement not upgraded as not directly required: setuptools in /home/ec2-user/anaconda3/envs/pytorch_p36/lib/python3.6/site-packages (from kiwisolver>=1.0.1->matplotlib!=3.0.0,>=2.0.0->scikit-image) (39.1.0)\n",
      "Installing collected packages: scikit-image\n",
      "  Found existing installation: scikit-image 0.14.2\n",
      "    Uninstalling scikit-image-0.14.2:\n",
      "      Successfully uninstalled scikit-image-0.14.2\n",
      "Successfully installed scikit-image-0.16.2\n",
      "\u001b[33mYou are using pip version 10.0.1, however version 20.0.2 is available.\n",
      "You should consider upgrading via the 'pip install --upgrade pip' command.\u001b[0m\n",
      "Requirement already up-to-date: nvidia-ml-py3 in /home/ec2-user/anaconda3/envs/pytorch_p36/lib/python3.6/site-packages (7.352.0)\n",
      "\u001b[33mYou are using pip version 10.0.1, however version 20.0.2 is available.\n",
      "You should consider upgrading via the 'pip install --upgrade pip' command.\u001b[0m\n",
      "mkdir: cannot create directory ‘workspace’: File exists\n",
      "mkdir: cannot create directory ‘workspace/data_src’: File exists\n",
      "mkdir: cannot create directory ‘workspace/data_src/aligned’: File exists\n",
      "mkdir: cannot create directory ‘workspace/data_dst’: File exists\n",
      "mkdir: cannot create directory ‘workspace/data_dst/aligned’: File exists\n",
      "mkdir: cannot create directory ‘workspace/model’: File exists\n",
      "\n",
      "Done!\n"
     ]
    }
   ],
   "source": [
    "#@title Install or update DeepFaceLab from Github\n",
    "import os\n",
    "import torch\n",
    "\n",
    "\n",
    "print(f\"CUDA version {torch.version.cuda}\")\n",
    "\n",
    "if not os.path.exists('DeepFaceLab'):\n",
    "    !git clone https://github.com/iperov/DeepFaceLab.git\n",
    "else:\n",
    "    # TODO update repo\n",
    "    pass\n",
    "\n",
    "!pip install -r DeepFaceLab/requirements-colab.txt\n",
    "!pip install --upgrade scikit-image\n",
    "!pip install --upgrade nvidia-ml-py3\n",
    "\n",
    "if not Path(\"pretrain\").exists():\n",
    "  print(\"Downloading CelebA faceset ... \")\n",
    "  !wget -q --no-check-certificate -r 'https://github.com/chervonij/DFL-Colab/releases/download/pretrain-CelebA/pretrain_CelebA.zip' -O pretrain_CelebA.zip\n",
    "  !mkdir pretrain\n",
    "  !unzip -q pretrain_CelebA.zip -d pretrain/\n",
    "  !rm pretrain_CelebA.zip\n",
    "\n",
    "if not Path(\"pretrain_Q96\").exists():\n",
    "  print(\"Downloading Q96 pretrained model ...\")\n",
    "  !wget -q --no-check-certificate -r 'https://github.com/chervonij/DFL-Colab/releases/download/Q96_model_pretrained/Q96_model_pretrained.zip' -O pretrain_Q96.zip\n",
    "  !mkdir pretrain_Q96\n",
    "  !unzip -q pretrain_Q96.zip -d pretrain_Q96/\n",
    "  !rm pretrain_Q96.zip\n",
    "\n",
    "if not Path(\"/content/workspace\").exists():\n",
    "  !mkdir workspace; mkdir workspace/data_src; mkdir workspace/data_src/aligned; mkdir workspace/data_dst; mkdir workspace/data_dst/aligned; mkdir workspace/model  \n",
    "\n",
    "print(\"\\nDone!\")"
   ]
  },
  {
   "cell_type": "markdown",
   "metadata": {
    "colab_type": "text",
    "id": "hqwOlJG4MdLC"
   },
   "source": [
    "## Manage workspace\n",
    "\n",
    "\n",
    "\n",
    "*   You can import/export workspace or individual data, like model files with Google Drive\n",
    "*   Also, you can use HFS (HTTP Fileserver) for directly import/export you workspace from your computer\n",
    "*   You can clear all workspace or delete part of it"
   ]
  },
  {
   "cell_type": "code",
   "execution_count": 46,
   "metadata": {
    "cellView": "form",
    "colab": {},
    "colab_type": "code",
    "id": "z4w_sUzgOQmL"
   },
   "outputs": [
    {
     "name": "stdout",
     "output_type": "stream",
     "text": [
      "total 75884\n",
      "drwx------ 23 ec2-user ec2-user     4096 Apr  6 17:52 .\n",
      "drwxr-xr-x  5 root     root         4096 Mar 23 21:42 ..\n",
      "drwxrwxr-x 24 ec2-user ec2-user     4096 Mar  1 10:28 anaconda3\n",
      "drwxrwxr-x  2 ec2-user ec2-user     4096 Mar  1 07:05 .aws\n",
      "-rw-r--r--  1 ec2-user ec2-user       18 Aug 30  2017 .bash_logout\n",
      "-rw-r--r--  1 ec2-user ec2-user      193 Aug 30  2017 .bash_profile\n",
      "-rw-rw-r--  1 ec2-user ec2-user      171 Mar  1 07:05 .bashrc\n",
      "drwxr-xr-x  4 ec2-user ec2-user     4096 Mar 23 21:36 .cache\n",
      "drwxrwxr-x  3 ec2-user ec2-user     4096 Mar  1 10:12 .conda\n",
      "-rw-rw-r--  1 ec2-user ec2-user       57 Mar  1 10:12 .condarc\n",
      "drwxrwxr-x  5 ec2-user ec2-user     4096 Mar 23 21:43 .config\n",
      "-rw-r--r--  1 ec2-user ec2-user        0 Mar 23 21:43 .cw-agent-baked\n",
      "-rw-rw-r--  1 ec2-user ec2-user  1769014 Apr  6 17:45 data_dst.mp4\n",
      "-rw-rw-r--  1 ec2-user ec2-user 72921163 Apr  6 17:45 data_src.mp4\n",
      "-rw-rw-r--  1 ec2-user ec2-user     1292 Mar  1 16:45 .dlamirc\n",
      "drwxrwxr-x  6 ec2-user ec2-user     4096 Mar  1 10:03 .dl_binaries\n",
      "drwxrwxr-x  9 ec2-user ec2-user     4096 Mar  1 10:08 examples\n",
      "-rw-r--r--  1 ec2-user ec2-user      481 Mar 23 21:43 .gitconfig\n",
      "drwxr-xr-x  5 ec2-user ec2-user     4096 Apr  6 16:56 .ipython\n",
      "drwxr-xr-x  4 ec2-user ec2-user     4096 Apr  6 16:55 .jupyter\n",
      "drwxrwxr-x  2 ec2-user ec2-user     4096 Mar  1 14:00 .keras\n",
      "-rw-rw-r--  1 ec2-user ec2-user    25646 Feb 19 06:51 LICENSE\n",
      "drwxrwxr-x  3 ec2-user ec2-user     4096 Mar  1 07:12 .local\n",
      "drwxr-xr-x  4 ec2-user ec2-user     4096 Mar 23 21:40 .npm\n",
      "-rw-rw-r--  1 ec2-user ec2-user  2839191 Mar  1 07:14 Nvidia_Cloud_EULA.pdf\n",
      "-rw-rw-r--  1 ec2-user ec2-user       39 Mar  1 10:12 .profile\n",
      "-rw-rw-r--  1 ec2-user ec2-user     3878 Mar  1 10:10 README\n",
      "-rw-------  1 ec2-user ec2-user     1024 Apr  6 16:52 .rnd\n",
      "drwxr-xr-x  6 ec2-user ec2-user     4096 Apr  6 17:22 SageMaker\n",
      "lrwxrwxrwx  1 root     root           42 Apr  6 16:52 sample-notebooks -> /home/ec2-user/sample-notebooks-1586191938\n",
      "drwxr-xr-x 23 root     root         4096 Apr  6 16:52 sample-notebooks-1586191938\n",
      "lrwxrwxrwx  1 root     root           36 Apr  6 16:52 .sparkmagic -> /home/ec2-user/SageMaker/.sparkmagic\n",
      "drwxrwxr-x  7 ec2-user ec2-user     4096 Mar  1 16:45 src\n",
      "drwx------  2 ec2-user ec2-user     4096 Mar 23 21:19 .ssh\n",
      "drwxrwx---  4 ec2-user ec2-user     4096 Mar  1 19:33 .theano\n",
      "drwxrwxr-x  3 ec2-user ec2-user     4096 Mar  1 07:14 tools\n",
      "drwxrwxr-x  5 ec2-user ec2-user     4096 Mar  1 10:08 tutorials\n",
      "-rw-rw-r--  1 ec2-user ec2-user      165 Apr  6 17:32 .wget-hsts\n",
      "drwxrwxr-x  2 ec2-user ec2-user     4096 Apr  6 17:47 workspace\n",
      "drwxr-xr-x  3 ec2-user ec2-user     4096 Mar 23 21:36 .yarn\n",
      "-rw-rw-r--  1 ec2-user ec2-user     1292 Mar  1 16:45 .zshrc\n",
      "Syncing s3://sagemaker-studio-8zd3jpqv4k/workspace workspace/\n",
      "Done!\n"
     ]
    }
   ],
   "source": [
    "#@title Import from Drive\n",
    "\n",
    "Mode = \"workspace\" #@param [\"workspace\", \"data_src\", \"data_dst\", \"data_src aligned\", \"data_dst aligned\", \"models\"]\n",
    "Archive_name = \"workspace.zip\" #@param {type:\"string\"}\n",
    "\n",
    "# Mount S3\n",
    "import boto3\n",
    "from sagemaker import get_execution_role\n",
    "\n",
    "role = get_execution_role()\n",
    "s3_bucket='sagemaker-studio-8zd3jpqv4k'\n",
    "data_key = 'workspace.zip'\n",
    "s3_location = f's3://{s3_bucket}/{data_key}'\n",
    "\n",
    "dst_path = \"/DFL-Colab/workspace/\"\n",
    "\n",
    "if Mode == \"workspace\":\n",
    "    !ls -al\n",
    "    s3_path = f\"s3://{s3_bucket}/workspace workspace/\"\n",
    "    print(f\"Syncing {s3_path}\")\n",
    "    !aws s3 sync $s3_path\n",
    "elif Mode == \"workspace_zip\":\n",
    "    s3_path = f\"s3://{s3_bucket}/workspace.zip {dst_path}\"\n",
    "    !aws s3 sync $s3_path\n",
    "  \n",
    "print(\"Done!\")\n",
    "\n"
   ]
  },
  {
   "cell_type": "code",
   "execution_count": null,
   "metadata": {
    "cellView": "form",
    "colab": {},
    "colab_type": "code",
    "id": "0Y3WfuwoNXqC"
   },
   "outputs": [],
   "source": [
    "#@title Export to Drive { form-width: \"30%\" }\n",
    "Mode = \"workspace\" #@param [\"workspace\", \"data_src\", \"data_dst\", \"data_src aligned\", \"data_dst aligned\", \"merged\", \"merged_mask\", \"models\", \"result video\", \"result_mask video\"]\n",
    "Archive_name = \"workspace.zip\" #@param {type:\"string\"}\n",
    "\n",
    "#Mount Google Drive as folder\n",
    "from google.colab import drive\n",
    "drive.mount('/content/drive', force_remount=True)\n",
    "\n",
    "def zip_and_copy(path, mode):\n",
    "  zip_cmd=\"-r -q \"+Archive_name+\" \"\n",
    "  \n",
    "  %cd $path\n",
    "  zip_cmd+=mode\n",
    "  !zip $zip_cmd\n",
    "  copy_cmd = \" \"+Archive_name+\"  /content/drive/My\\ Drive/\"\n",
    "  !cp $copy_cmd\n",
    "  !rm $Archive_name\n",
    "\n",
    "if Mode == \"workspace\":\n",
    "  zip_and_copy(\"/content\", \"workspace\")\n",
    "elif Mode == \"data_src\":\n",
    "  zip_and_copy(\"/content/workspace\", \"data_src\")\n",
    "elif Mode == \"data_dst\":\n",
    "  zip_and_copy(\"/content/workspace\", \"data_dst\")\n",
    "elif Mode == \"data_src aligned\":\n",
    "  zip_and_copy(\"/content/workspace/data_src\", \"aligned\")\n",
    "elif Mode == \"data_dst aligned\":\n",
    "  zip_and_copy(\"/content/workspace/data_dst\", \"aligned\")\n",
    "elif Mode == \"merged\":\n",
    "  zip_and_copy(\"/content/workspace/data_dst\", \"merged\")\n",
    "elif Mode == \"merged_mask\":\n",
    "  zip_and_copy(\"/content/workspace/data_dst\", \"merged_mask\")\n",
    "elif Mode == \"models\":\n",
    "  zip_and_copy(\"/content/workspace\", \"model\")\n",
    "elif Mode == \"result video\":\n",
    "  !cp /content/workspace/result.mp4 /content/drive/My\\ Drive/\n",
    "elif Mode == \"result_mask video\":\n",
    "  !cp /content/workspace/result_mask.mp4 /content/drive/My\\ Drive/\n",
    "  \n",
    "print(\"Done!\")\n"
   ]
  },
  {
   "cell_type": "code",
   "execution_count": null,
   "metadata": {
    "colab": {},
    "colab_type": "code",
    "id": "0hIvJtxwTGcb"
   },
   "outputs": [],
   "source": [
    "#@title Import from URL{ form-width: \"30%\", display-mode: \"form\" }\n",
    "URL = \"http://\" #@param {type:\"string\"}\n",
    "Mode = \"unzip to content\" #@param [\"unzip to content\", \"unzip to content/workspace\", \"unzip to content/workspace/data_src\", \"unzip to content/workspace/data_src/aligned\", \"unzip to content/workspace/data_dst\", \"unzip to content/workspace/data_dst/aligned\", \"unzip to content/workspace/model\", \"download to content/workspace\"]\n",
    "\n",
    "import urllib\n",
    "from pathlib import Path\n",
    "\n",
    "def unzip(zip_path, dest_path):\n",
    "\n",
    "    \n",
    "  unzip_cmd = \" unzip -q \" + zip_path + \" -d \"+dest_path\n",
    "  !$unzip_cmd  \n",
    "  rm_cmd = \"rm \"+dest_path + url_path.name\n",
    "  !$rm_cmd\n",
    "  print(\"Unziped!\")\n",
    "  \n",
    "\n",
    "if Mode == \"unzip to content\":\n",
    "  dest_path = \"/content/\"\n",
    "elif Mode == \"unzip to content/workspace\":\n",
    "  dest_path = \"/content/workspace/\"\n",
    "elif Mode == \"unzip to content/workspace/data_src\":\n",
    "  dest_path = \"/content/workspace/data_src/\"\n",
    "elif Mode == \"unzip to content/workspace/data_src/aligned\":\n",
    "  dest_path = \"/content/workspace/data_src/aligned/\"\n",
    "elif Mode == \"unzip to content/workspace/data_dst\":\n",
    "  dest_path = \"/content/workspace/data_dst/\"\n",
    "elif Mode == \"unzip to content/workspace/data_dst/aligned\":\n",
    "  dest_path = \"/content/workspace/data_dst/aligned/\"\n",
    "elif Mode == \"unzip to content/workspace/model\":\n",
    "  dest_path = \"/content/workspace/model/\"\n",
    "elif Mode == \"download to content/workspace\":\n",
    "  dest_path = \"/content/workspace/\"\n",
    "\n",
    "if not Path(\"/content/workspace\").exists():\n",
    "  cmd = \"mkdir /content/workspace; mkdir /content/workspace/data_src; mkdir /content/workspace/data_src/aligned; mkdir /content/workspace/data_dst; mkdir /content/workspace/data_dst/aligned; mkdir /content/workspace/model\"\n",
    "  !$cmd\n",
    "\n",
    "url_path = Path(URL)\n",
    "urllib.request.urlretrieve ( URL, dest_path + url_path.name )\n",
    "\n",
    "if (url_path.suffix == \".zip\") and (Mode!=\"download to content/workspace\"):\n",
    "  unzip(dest_path + url_path.name, dest_path)\n",
    "\n",
    "  \n",
    "print(\"Done!\")"
   ]
  },
  {
   "cell_type": "code",
   "execution_count": null,
   "metadata": {
    "cellView": "form",
    "colab": {},
    "colab_type": "code",
    "id": "7V1sc7rxNKLO"
   },
   "outputs": [],
   "source": [
    "#@title Export to URL\n",
    "URL = \"http://\" #@param {type:\"string\"}\n",
    "Mode = \"upload workspace\" #@param [\"upload workspace\", \"upload data_src\", \"upload data_dst\", \"upload data_src aligned\", \"upload data_dst aligned\", \"upload merged\", \"upload model\", \"upload result video\"]\n",
    "\n",
    "cmd_zip = \"zip -r -q \"\n",
    "\n",
    "def run_cmd(zip_path, curl_url):\n",
    "  cmd_zip = \"zip -r -q \"+zip_path\n",
    "  cmd_curl = \"curl --silent -F \"+curl_url+\" -D out.txt > /dev/null\"\n",
    "  !$cmd_zip\n",
    "  !$cmd_curl\n",
    "\n",
    "\n",
    "if Mode == \"upload workspace\":\n",
    "  %cd \"/content\"\n",
    "  run_cmd(\"workspace.zip workspace/\",\"'data=@/content/workspace.zip' \"+URL)\n",
    "elif Mode == \"upload data_src\":\n",
    "  %cd \"/content/workspace\"\n",
    "  run_cmd(\"data_src.zip data_src/\", \"'data=@/content/workspace/data_src.zip' \"+URL)\n",
    "elif Mode == \"upload data_dst\":\n",
    "  %cd \"/content/workspace\"\n",
    "  run_cmd(\"data_dst.zip data_dst/\", \"'data=@/content/workspace/data_dst.zip' \"+URL)\n",
    "elif Mode == \"upload data_src aligned\":\n",
    "  %cd \"/content/workspace\"\n",
    "  run_cmd(\"data_src_aligned.zip data_src/aligned\", \"'data=@/content/workspace/data_src_aligned.zip' \"+URL )\n",
    "elif Mode == \"upload data_dst aligned\":\n",
    "  %cd \"/content/workspace\"\n",
    "  run_cmd(\"data_dst_aligned.zip data_dst/aligned/\", \"'data=@/content/workspace/data_dst_aligned.zip' \"+URL)\n",
    "elif Mode == \"upload merged\":\n",
    "  %cd \"/content/workspace/data_dst\"\n",
    "  run_cmd(\"merged.zip merged/\",\"'data=@/content/workspace/data_dst/merged.zip' \"+URL )\n",
    "elif Mode == \"upload model\":\n",
    "  %cd \"/content/workspace\"\n",
    "  run_cmd(\"model.zip model/\", \"'data=@/content/workspace/model.zip' \"+URL)\n",
    "elif Mode == \"upload result video\":\n",
    "  %cd \"/content/workspace\"\n",
    "  run_cmd(\"result.zip result.mp4\", \"'data=@/content/workspace/result.zip' \"+URL)\n",
    "  \n",
    "  \n",
    "!rm *.zip\n",
    "\n",
    "%cd \"/content\"\n",
    "print(\"Done!\")"
   ]
  },
  {
   "cell_type": "code",
   "execution_count": null,
   "metadata": {
    "cellView": "form",
    "colab": {},
    "colab_type": "code",
    "id": "Ta6ue_UGMkki"
   },
   "outputs": [],
   "source": [
    "#@title Delete and recreate\n",
    "Mode = \"Delete and recreate workspace\" #@param [\"Delete and recreate workspace\", \"Delete models\", \"Delete data_src\", \"Delete data_src aligned\", \"Delete data_src video\", \"Delete data_dst\", \"Delete data_dst aligned\", \"Delete merged frames\"]\n",
    "\n",
    "%cd \"/content\" \n",
    "\n",
    "if Mode == \"Delete and recreate workspace\":\n",
    "  cmd = \"rm -r /content/workspace ; mkdir /content/workspace; mkdir /content/workspace/data_src; mkdir /content/workspace/data_src/aligned; mkdir /content/workspace/data_dst; mkdir /content/workspace/data_dst/aligned; mkdir /content/workspace/model\"  \n",
    "elif Mode == \"Delete models\":\n",
    "  cmd = \"rm -r /content/workspace/model/*\"\n",
    "elif Mode == \"Delete data_src\":\n",
    "  cmd = \"rm /content/workspace/data_src/*.png || rm -r /content/workspace/data_src/*.jpg\"\n",
    "elif Mode == \"Delete data_src aligned\":\n",
    "  cmd = \"rm -r /content/workspace/data_src/aligned/*\"\n",
    "elif Mode == \"Delete data_src video\":\n",
    "  cmd = \"rm -r /content/workspace/data_src.*\"\n",
    "elif Mode == \"Delete data_dst\":\n",
    "  cmd = \"rm /content/workspace/data_dst/*.png || rm /content/workspace/data_dst/*.jpg\"\n",
    "elif Mode == \"Delete data_dst aligned\":\n",
    "  cmd = \"rm -r /content/workspace/data_dst/aligned/*\"\n",
    "elif Mode == \"Delete merged frames\":\n",
    "  cmd = \"rm -r /content/workspace/data_dst/merged; rm -r /content/workspace/data_dst/merged_mask\"\n",
    "  \n",
    "!$cmd\n",
    "print(\"Done!\")"
   ]
  },
  {
   "cell_type": "markdown",
   "metadata": {
    "colab_type": "text",
    "id": "tUNVcbujhm00"
   },
   "source": [
    "## Extract, sorting and faceset tools\n",
    "* Extract frames for SRC or DST video.\n",
    "* Denoise SRC or DST video. \"Factor\" param set intesity of denoising\n",
    "* Detect and align faces. If you need, you can get frames with debug landmarks.\n",
    "* Export workspace to Google Drive after extract and sort it manually (In \"Manage Workspace\" block)\n",
    "* You can enhance your facesets with DFL FacesetEnhancer.\n",
    "* Apply or remove trained XSeg model to the extracted faces\n"
   ]
  },
  {
   "cell_type": "code",
   "execution_count": null,
   "metadata": {
    "cellView": "form",
    "colab": {},
    "colab_type": "code",
    "id": "qwJEbz5Nhot0"
   },
   "outputs": [],
   "source": [
    "#@title Extract frames\n",
    "Video = \"data_src\" #@param [\"data_src\", \"data_dst\"]\n",
    "\n",
    "%cd \"/content\"\n",
    "\n",
    "cmd = \"DeepFaceLab/main.py videoed extract-video\"\n",
    "\n",
    "if Video == \"data_dst\":\n",
    "  cmd+= \" --input-file workspace/data_dst.* --output-dir workspace/data_dst/\"\n",
    "else:\n",
    "  cmd+= \" --input-file workspace/data_src.* --output-dir workspace/data_src/\"\n",
    "  \n",
    "!python $cmd"
   ]
  },
  {
   "cell_type": "code",
   "execution_count": null,
   "metadata": {
    "cellView": "form",
    "colab": {},
    "colab_type": "code",
    "id": "bFmPo0s2lTil"
   },
   "outputs": [],
   "source": [
    "#@title Denoise frames\n",
    "Data = \"data_src\" #@param [\"data_src\", \"data_dst\"]\n",
    "Factor = 1 #@param {type:\"slider\", min:1, max:20, step:1}\n",
    "\n",
    "cmd = \"DeepFaceLab/main.py videoed denoise-image-sequence --input-dir workspace/\"+Data+\" --factor \"+str(Factor)\n",
    "\n",
    "%cd \"/content\"\n",
    "!python $cmd"
   ]
  },
  {
   "cell_type": "code",
   "execution_count": null,
   "metadata": {
    "cellView": "form",
    "colab": {},
    "colab_type": "code",
    "id": "nmq0Sj2bmq7d"
   },
   "outputs": [],
   "source": [
    "#@title Detect faces\n",
    "Data = \"data_src\" #@param [\"data_src\", \"data_dst\"]\n",
    "Detector = \"S3FD\" #@param [\"S3FD\", \"S3FD (whole face)\"]\n",
    "Debug = False #@param {type:\"boolean\"}\n",
    "\n",
    "detect_type = \"s3fd\"\n",
    "dbg = \" --output-debug\" if Debug else \" --no-output-debug\"\n",
    "\n",
    "folder = \"workspace/\"+Data\n",
    "folder_aligned = folder+\"/aligned\"\n",
    "\n",
    "cmd = \"DeepFaceLab/main.py extract --input-dir \"+folder+\" --output-dir \"+folder_aligned\n",
    "cmd+=\" --detector \"+detect_type+\" --force-gpu-idxs 0\"+dbg\n",
    "\n",
    "if \"whole face\" in Detector:\n",
    "  cmd+=\" --face-type whole_face\" \n",
    "%cd \"/content\"\n",
    "!python $cmd"
   ]
  },
  {
   "cell_type": "code",
   "execution_count": null,
   "metadata": {
    "cellView": "form",
    "colab": {},
    "colab_type": "code",
    "id": "TRNxUFE6p6Eu"
   },
   "outputs": [],
   "source": [
    "#@title Sort aligned\n",
    "Data = \"data_src\" #@param [\"data_src\", \"data_dst\"]\n",
    "sort_type = \"hist\" #@param [\"blur\", \"face-yaw\", \"face-pitch\", \"face-source-rect-size\", \"hist\", \"hist-dissim\", \"brightness\", \"hue\", \"black\", \"origname\", \"oneface\", \"final\", \"final-faster\", \"absdiff\"]\n",
    "\n",
    "cmd = \"DeepFaceLab/main.py sort --input-dir workspace/\"+Data+\"/aligned --by \"+sort_type\n",
    "\n",
    "%cd \"/content\"\n",
    "!python $cmd"
   ]
  },
  {
   "cell_type": "code",
   "execution_count": null,
   "metadata": {
    "cellView": "form",
    "colab": {},
    "colab_type": "code",
    "id": "O5MbnVDyXkP7"
   },
   "outputs": [],
   "source": [
    "#@title Faceset Enhancer\n",
    "Data = \"data_src\" #@param [\"data_src\", \"data_dst\"]\n",
    "\n",
    "data_path = \"/content/workspace/\"+Data+\"/aligned\"\n",
    "cmd = \"/content/DeepFaceLab/main.py facesettool enhance --input-dir \"+data_path\n",
    "!python $cmd"
   ]
  },
  {
   "cell_type": "code",
   "execution_count": null,
   "metadata": {
    "cellView": "form",
    "colab": {},
    "colab_type": "code",
    "id": "-VVvtoBMGnrA"
   },
   "outputs": [],
   "source": [
    "#@title Apply or remove XSeg mask to the faces\n",
    "Mode = \"Remove mask\" #@param [\"Apply mask\", \"Remove mask\"]\n",
    "Data = \"data_src\" #@param [\"data_src\", \"data_dst\"]\n",
    "\n",
    "main_path = \"/content/DeepFaceLab/main.py \"\n",
    "data_path = \"/content/workspace/\"+Data+\"/aligned \"\n",
    "mode_arg = \"apply \" if Mode == \"Apply mask\" else \"remove \"\n",
    "cmd = main_path+\"xseg \"+mode_arg+\"--input-dir \"+data_path\n",
    "cmd += \"--model-dir /content/workspace/model\" if mode_arg == \"apply \" else \"\"\n",
    "\n",
    "!python $cmd"
   ]
  },
  {
   "cell_type": "markdown",
   "metadata": {
    "colab_type": "text",
    "id": "WTuyUxgdLA13"
   },
   "source": [
    "## Train model\n",
    "\n",
    "* Choose your model type, but SAEHD is recommend for everyone\n",
    "* Set model options on output field\n",
    "* You can see preview manually, if go to model folder in filemanager and double click on preview.jpg file\n",
    "* Your workspace will be archived and upload to mounted Drive after 11 hours from start session\n",
    "* If you select \"Backup_every_hour\" option, your workspace will be backed up every hour.\n",
    "* Also, you can export your workspace manually in \"Manage workspace\" block\n",
    "* \"Silent_Start\" option provides to automatically start with best GPU and last used model. "
   ]
  },
  {
   "cell_type": "code",
   "execution_count": null,
   "metadata": {
    "cellView": "form",
    "colab": {},
    "colab_type": "code",
    "id": "Z0Kya-PJLDhv"
   },
   "outputs": [],
   "source": [
    "#@title Training\n",
    "Model = \"SAEHD\" #@param [\"SAEHD\", \"Quick96\", \"XSeg\"]\n",
    "Backup_every_hour = True #@param {type:\"boolean\"}\n",
    "Silent_Start = True #@param {type:\"boolean\"}\n",
    "\n",
    "%cd \"/content\"\n",
    "\n",
    "#Mount Google Drive as folder\n",
    "from google.colab import drive\n",
    "drive.mount('/content/drive')\n",
    "\n",
    "import psutil, os, time\n",
    "\n",
    "p = psutil.Process(os.getpid())\n",
    "uptime = time.time() - p.create_time()\n",
    "\n",
    "if (Backup_every_hour):\n",
    "  if not os.path.exists('workspace.zip'):\n",
    "    print(\"Creating workspace archive ...\")\n",
    "    !zip -r -q workspace.zip workspace\n",
    "    print(\"Archive created!\")\n",
    "  else:\n",
    "    print(\"Archive exist!\")\n",
    "\n",
    "if (Backup_every_hour):\n",
    "  print(\"Time to end session: \"+str(round((43200-uptime)/3600))+\" hours\")\n",
    "  backup_time = str(3600)\n",
    "  backup_cmd = \" --execute-program -\"+backup_time+\" \\\"import os; os.system('zip -r -q workspace.zip workspace/model'); os.system('cp /content/workspace.zip /content/drive/My\\ Drive/'); print('Backed up!') \\\"\" \n",
    "elif (round(39600-uptime) > 0):\n",
    "  print(\"Time to backup: \"+str(round((39600-uptime)/3600))+\" hours\")\n",
    "  backup_time = str(round(39600-uptime))\n",
    "  backup_cmd = \" --execute-program \"+backup_time+\" \\\"import os; os.system('zip -r -q workspace.zip workspace'); os.system('cp /content/workspace.zip /content/drive/My\\ Drive/'); print('Backed up!') \\\"\" \n",
    "else:\n",
    "  print(\"Session expires in less than an hour.\")\n",
    "  backup_cmd = \"\"\n",
    "    \n",
    "cmd = \"DeepFaceLab/main.py train --training-data-src-dir workspace/data_src/aligned --training-data-dst-dir workspace/data_dst/aligned --pretraining-data-dir pretrain --model-dir workspace/model --model \"+Model\n",
    "\n",
    "if Model == \"Quick96\":\n",
    "  cmd+= \" --pretrained-model-dir pretrain_Q96\"\n",
    "\n",
    "if Silent_Start:\n",
    "  cmd+= \" --silent-start\"\n",
    "\n",
    "if (backup_cmd != \"\"):\n",
    "  train_cmd = (cmd+backup_cmd)\n",
    "else:\n",
    "  train_cmd = (cmd)\n",
    "\n",
    "!python $train_cmd"
   ]
  },
  {
   "cell_type": "markdown",
   "metadata": {
    "colab_type": "text",
    "id": "avAcSL_uvtq_"
   },
   "source": [
    "## Merge frames"
   ]
  },
  {
   "cell_type": "code",
   "execution_count": null,
   "metadata": {
    "cellView": "form",
    "colab": {},
    "colab_type": "code",
    "id": "A3Y8K22Sv9Gn"
   },
   "outputs": [],
   "source": [
    "#@title Merge\n",
    "Model = \"SAEHD\" #@param [\"SAEHD\", \"Quick96\" ]\n",
    "\n",
    "cmd = \"DeepFaceLab/main.py merge --input-dir workspace/data_dst --output-dir workspace/data_dst/merged --output-mask-dir workspace/data_dst/merged_mask --aligned-dir workspace/data_dst/aligned --model-dir workspace/model --model \"+Model\n",
    "\n",
    "%cd \"/content\"\n",
    "!python $cmd"
   ]
  },
  {
   "cell_type": "code",
   "execution_count": null,
   "metadata": {
    "cellView": "form",
    "colab": {},
    "colab_type": "code",
    "id": "JNeGfiZpxlnz"
   },
   "outputs": [],
   "source": [
    "#@title Get result video \n",
    "Mode = \"result video\" #@param [\"result video\", \"result_mask video\"]\n",
    "Copy_to_Drive = True #@param {type:\"boolean\"}\n",
    "\n",
    "\n",
    "if Mode == \"result video\":\n",
    "  !python DeepFaceLab/main.py videoed video-from-sequence --input-dir workspace/data_dst/merged --output-file workspace/result.mp4 --reference-file workspace/data_dst.mp4 --include-audio\n",
    "  if Copy_to_Drive:\n",
    "    !cp /content/workspace/result.mp4 /content/drive/My\\ Drive/\n",
    "elif Mode == \"result_mask video\":\n",
    "  !python DeepFaceLab/main.py videoed video-from-sequence --input-dir workspace/data_dst/merged_mask --output-file workspace/result_mask.mp4 --reference-file workspace/data_dst.mp4\n",
    "  if Copy_to_Drive:\n",
    "    !cp /content/workspace/result_mask.mp4 /content/drive/My\\ Drive/\n"
   ]
  }
 ],
 "metadata": {
  "accelerator": "GPU",
  "colab": {
   "collapsed_sections": [
    "IYtWMzOvLQ3s",
    "BDg_jiQ9adQe",
    "JuVn21kt40Gw",
    "hqwOlJG4MdLC",
    "tUNVcbujhm00",
    "WTuyUxgdLA13",
    "avAcSL_uvtq_"
   ],
   "name": "DFL_Colab.ipynb",
   "provenance": [],
   "toc_visible": true
  },
  "kernelspec": {
   "display_name": "conda_pytorch_p36",
   "language": "python",
   "name": "conda_pytorch_p36"
  },
  "language_info": {
   "codemirror_mode": {
    "name": "ipython",
    "version": 3
   },
   "file_extension": ".py",
   "mimetype": "text/x-python",
   "name": "python",
   "nbconvert_exporter": "python",
   "pygments_lexer": "ipython3",
   "version": "3.6.5"
  }
 },
 "nbformat": 4,
 "nbformat_minor": 4
}
